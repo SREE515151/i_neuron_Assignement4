{
  "metadata": {
    "language_info": {
      "name": ""
    },
    "kernelspec": {
      "name": "python",
      "display_name": "Python (Pyodide)",
      "language": "python"
    }
  },
  "nbformat_minor": 4,
  "nbformat": 4,
  "cells": [
    {
      "cell_type": "markdown",
      "source": "1. What exactly is []?",
      "metadata": {}
    },
    {
      "cell_type": "markdown",
      "source": "A) The `[]` brackets in Python are used to create a list. A list is a collection of items that are stored in order. The items in a list can be of any type, including strings, numbers, and other lists.\nTo create a list, you simply need to put the items inside the brackets, separated by commas.",
      "metadata": {}
    },
    {
      "cell_type": "code",
      "source": "",
      "metadata": {},
      "execution_count": null,
      "outputs": []
    },
    {
      "cell_type": "markdown",
      "source": "2. In a list of values stored in a variable called spam, how would you assign the value 'hello' as the third value? (Assume [2, 4, 6, 8, 10] are in spam.)",
      "metadata": {}
    },
    {
      "cell_type": "code",
      "source": "A)To assign the value 'hello' as the third value in a list of values stored in a variable called spam, you would use the following code:\n\nspam[2] = 'hello'\n\nThis code would change the third value in the list spam to 'hello'.",
      "metadata": {},
      "execution_count": null,
      "outputs": []
    },
    {
      "cell_type": "code",
      "source": "",
      "metadata": {},
      "execution_count": null,
      "outputs": []
    },
    {
      "cell_type": "markdown",
      "source": "Let's pretend the spam includes the list ['a','b','c','d'] for the next three queries.",
      "metadata": {}
    },
    {
      "cell_type": "raw",
      "source": "3. What is the value of spam[int(int('3' * 2) / 11)]?",
      "metadata": {}
    },
    {
      "cell_type": "raw",
      "source": "A) The value of spam[int(int('3' * 2) / 11)] is 'c'. This is because the value of int('3' * 2) is 6, and 6 divided by 11 is 0.5454545454545454, which is rounded to 0. The value of spam[0] is 'a', so the value of spam[int(int('3' * 2) / 11)] is 'c'.",
      "metadata": {}
    },
    {
      "cell_type": "markdown",
      "source": "4.What is the value of spam[-1]?",
      "metadata": {}
    },
    {
      "cell_type": "markdown",
      "source": "A) The value of spam[-1] is 'd'. This is because the list spam has four elements, and the last element is 'd'.",
      "metadata": {}
    },
    {
      "cell_type": "code",
      "source": "5.What is the value of spam[:2]?",
      "metadata": {},
      "execution_count": null,
      "outputs": []
    },
    {
      "cell_type": "markdown",
      "source": "A)The value of spam[:2] is ['a', 'b']. This is because the slice operator takes the elements from the start of the list up to, but not including, the specified index. In this case, the specified index is 2, so the slice operator takes the elements from the start of the list up to, but not including, the second element.",
      "metadata": {}
    },
    {
      "cell_type": "code",
      "source": "",
      "metadata": {},
      "execution_count": null,
      "outputs": []
    },
    {
      "cell_type": "markdown",
      "source": "6. Let's pretend bacon has the list [3.14, 'cat', 11, 'cat', True] for the next three questions.",
      "metadata": {}
    },
    {
      "cell_type": "markdown",
      "source": "6. What is the value of bacon.index('cat')?",
      "metadata": {}
    },
    {
      "cell_type": "markdown",
      "source": "A) The value of bacon.index('cat') is 1. This is because the first occurrence of the string 'cat' in the list bacon is at index 1.",
      "metadata": {}
    },
    {
      "cell_type": "markdown",
      "source": "7. How does bacon.append(99) change the look of the list value in bacon?",
      "metadata": {}
    },
    {
      "cell_type": "code",
      "source": "A) After appending the integer 99 to the list bacon, the list will look like this: [3.14, 'cat', 11, 'cat', True, 99].",
      "metadata": {},
      "execution_count": null,
      "outputs": []
    },
    {
      "cell_type": "markdown",
      "source": "8. How does bacon.remove('cat') change the look of the list in bacon?",
      "metadata": {}
    },
    {
      "cell_type": "code",
      "source": "A) After removing the string 'cat' from the list bacon, the list will look like this: [3.14, 11, 'cat', True].",
      "metadata": {},
      "execution_count": null,
      "outputs": []
    },
    {
      "cell_type": "code",
      "source": "",
      "metadata": {},
      "execution_count": null,
      "outputs": []
    },
    {
      "cell_type": "markdown",
      "source": "9. What are the list concatenation and list replication operators?",
      "metadata": {}
    },
    {
      "cell_type": "markdown",
      "source": "A)The list concatenation operator is the plus sign (+), and the list replication operator is the asterisk (*). The list concatenation operator combines two lists into one list, while the list replication operator repeats a list a specified number of times.",
      "metadata": {}
    },
    {
      "cell_type": "code",
      "source": "",
      "metadata": {},
      "execution_count": null,
      "outputs": []
    },
    {
      "cell_type": "markdown",
      "source": "10. What is difference between the list methods append() and insert()?",
      "metadata": {}
    },
    {
      "cell_type": "markdown",
      "source": "A) The list method append() adds an item to the end of a list, while the list method insert() adds an item to a specific position in a list.",
      "metadata": {}
    },
    {
      "cell_type": "code",
      "source": "",
      "metadata": {},
      "execution_count": null,
      "outputs": []
    },
    {
      "cell_type": "markdown",
      "source": "11. What are the two methods for removing items from a list?",
      "metadata": {}
    },
    {
      "cell_type": "markdown",
      "source": "A) The two methods for removing items from a list in Python are the remove() method and the del statement. \nThe remove() method removes the first occurrence of the specified item from the list, while the del statement removes the item at the specified index.",
      "metadata": {}
    },
    {
      "cell_type": "code",
      "source": "",
      "metadata": {},
      "execution_count": null,
      "outputs": []
    },
    {
      "cell_type": "markdown",
      "source": "12. Describe how list values and string values are identical.",
      "metadata": {}
    },
    {
      "cell_type": "markdown",
      "source": "A) List values and string values are not identical. A list is a collection of items, while a string is a sequence of characters. Lists can contain different types of items, while strings can only contain characters.",
      "metadata": {}
    },
    {
      "cell_type": "code",
      "source": "",
      "metadata": {},
      "execution_count": null,
      "outputs": []
    },
    {
      "cell_type": "markdown",
      "source": "13. What's the difference between tuples and lists?",
      "metadata": {}
    },
    {
      "cell_type": "markdown",
      "source": "A) A tuple is a collection of items, just like a list. but tuples are immutable, which means that they cannot be changed after they are created. Lists are mutable, which means that they can be changed after they are created.",
      "metadata": {}
    },
    {
      "cell_type": "code",
      "source": "",
      "metadata": {},
      "execution_count": null,
      "outputs": []
    },
    {
      "cell_type": "markdown",
      "source": "14. How do you type a tuple value that only contains the integer 42?",
      "metadata": {}
    },
    {
      "cell_type": "markdown",
      "source": "A)To type a tuple value that only contains the integer 42, you can use the following syntax: (42,).",
      "metadata": {}
    },
    {
      "cell_type": "code",
      "source": "",
      "metadata": {},
      "execution_count": null,
      "outputs": []
    },
    {
      "cell_type": "markdown",
      "source": "15. How do you get a list value's tuple form? How do you get a tuple value's list form?",
      "metadata": {}
    },
    {
      "cell_type": "code",
      "source": "A) To get a list value's tuple form, you can use the tuple() function. \nExample, the following code will convert the list [1, 2, 3] to a tuple:\n>>> tuple([1, 2, 3])\n(1, 2, 3)\n\nTo get a tuple value's list form, you can use the list() function. \nExample, the following code will convert the tuple (1, 2, 3) to a list:\n>>> list((1, 2, 3))\n[1, 2, 3]",
      "metadata": {},
      "execution_count": null,
      "outputs": []
    },
    {
      "cell_type": "code",
      "source": "",
      "metadata": {},
      "execution_count": null,
      "outputs": []
    },
    {
      "cell_type": "markdown",
      "source": "16. Variables that \"contain\" list values are not necessarily lists themselves. Instead, what do they\ncontain?",
      "metadata": {}
    },
    {
      "cell_type": "markdown",
      "source": "A) Variables that \"contain\" list values are not necessarily lists themselves. Instead, they can contain references to lists. A reference is a way to refer to an object without having to store the object itself. When a variable contains a reference to a list, the variable can be used to access the list's elements.",
      "metadata": {}
    },
    {
      "cell_type": "code",
      "source": "",
      "metadata": {},
      "execution_count": null,
      "outputs": []
    },
    {
      "cell_type": "markdown",
      "source": "17. How do you distinguish between copy.copy() and copy.deepcopy()?",
      "metadata": {}
    },
    {
      "cell_type": "markdown",
      "source": "A) The `copy.copy()` function creates a shallow copy of an object, which means that it creates a new object that contains references to the same data as the original object. This means that if you change the data in the original object, the changes will also be reflected in the copy.\nThe `copy.deepcopy()` function creates a deep copy of an object, which means that it creates a new object that contains copies of the data in the original object. This means that if you change the data in the original object, the changes will not be reflected in the copy.\n\n\nIn general, you should use copy.copy() when you need to create a new object that will share the same data as the original object. You should use copy.deepcopy() when you need to create a new object that will have its own independent copy of the data in the original object.",
      "metadata": {}
    },
    {
      "cell_type": "code",
      "source": "",
      "metadata": {},
      "execution_count": null,
      "outputs": []
    }
  ]
}